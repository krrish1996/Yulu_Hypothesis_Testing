{
 "cells": [
  {
   "cell_type": "code",
   "execution_count": 1,
   "id": "f1d953c4",
   "metadata": {},
   "outputs": [],
   "source": [
    "import pandas as pd\n",
    "import numpy as np\n",
    "import seaborn as sns\n",
    "import matplotlib.pyplot as plt\n",
    "from scipy import stats\n",
    "import math\n",
    "import statsmodels.api as sm\n",
    "from statsmodels.formula.api import ols"
   ]
  },
  {
   "cell_type": "code",
   "execution_count": 2,
   "id": "f97200c6",
   "metadata": {},
   "outputs": [],
   "source": [
    "df = pd.read_csv('Yulu_Hypothesis_Testing_bike_sharing.csv')"
   ]
  },
  {
   "cell_type": "code",
   "execution_count": 3,
   "id": "5e94cd39",
   "metadata": {},
   "outputs": [
    {
     "data": {
      "text/html": [
       "<div>\n",
       "<style scoped>\n",
       "    .dataframe tbody tr th:only-of-type {\n",
       "        vertical-align: middle;\n",
       "    }\n",
       "\n",
       "    .dataframe tbody tr th {\n",
       "        vertical-align: top;\n",
       "    }\n",
       "\n",
       "    .dataframe thead th {\n",
       "        text-align: right;\n",
       "    }\n",
       "</style>\n",
       "<table border=\"1\" class=\"dataframe\">\n",
       "  <thead>\n",
       "    <tr style=\"text-align: right;\">\n",
       "      <th></th>\n",
       "      <th>datetime</th>\n",
       "      <th>season</th>\n",
       "      <th>holiday</th>\n",
       "      <th>workingday</th>\n",
       "      <th>weather</th>\n",
       "      <th>temp</th>\n",
       "      <th>atemp</th>\n",
       "      <th>humidity</th>\n",
       "      <th>windspeed</th>\n",
       "      <th>casual</th>\n",
       "      <th>registered</th>\n",
       "      <th>count</th>\n",
       "    </tr>\n",
       "  </thead>\n",
       "  <tbody>\n",
       "    <tr>\n",
       "      <th>0</th>\n",
       "      <td>2011-01-01 00:00:00</td>\n",
       "      <td>1</td>\n",
       "      <td>0</td>\n",
       "      <td>0</td>\n",
       "      <td>1</td>\n",
       "      <td>9.84</td>\n",
       "      <td>14.395</td>\n",
       "      <td>81</td>\n",
       "      <td>0.0</td>\n",
       "      <td>3</td>\n",
       "      <td>13</td>\n",
       "      <td>16</td>\n",
       "    </tr>\n",
       "    <tr>\n",
       "      <th>1</th>\n",
       "      <td>2011-01-01 01:00:00</td>\n",
       "      <td>1</td>\n",
       "      <td>0</td>\n",
       "      <td>0</td>\n",
       "      <td>1</td>\n",
       "      <td>9.02</td>\n",
       "      <td>13.635</td>\n",
       "      <td>80</td>\n",
       "      <td>0.0</td>\n",
       "      <td>8</td>\n",
       "      <td>32</td>\n",
       "      <td>40</td>\n",
       "    </tr>\n",
       "    <tr>\n",
       "      <th>2</th>\n",
       "      <td>2011-01-01 02:00:00</td>\n",
       "      <td>1</td>\n",
       "      <td>0</td>\n",
       "      <td>0</td>\n",
       "      <td>1</td>\n",
       "      <td>9.02</td>\n",
       "      <td>13.635</td>\n",
       "      <td>80</td>\n",
       "      <td>0.0</td>\n",
       "      <td>5</td>\n",
       "      <td>27</td>\n",
       "      <td>32</td>\n",
       "    </tr>\n",
       "    <tr>\n",
       "      <th>3</th>\n",
       "      <td>2011-01-01 03:00:00</td>\n",
       "      <td>1</td>\n",
       "      <td>0</td>\n",
       "      <td>0</td>\n",
       "      <td>1</td>\n",
       "      <td>9.84</td>\n",
       "      <td>14.395</td>\n",
       "      <td>75</td>\n",
       "      <td>0.0</td>\n",
       "      <td>3</td>\n",
       "      <td>10</td>\n",
       "      <td>13</td>\n",
       "    </tr>\n",
       "    <tr>\n",
       "      <th>4</th>\n",
       "      <td>2011-01-01 04:00:00</td>\n",
       "      <td>1</td>\n",
       "      <td>0</td>\n",
       "      <td>0</td>\n",
       "      <td>1</td>\n",
       "      <td>9.84</td>\n",
       "      <td>14.395</td>\n",
       "      <td>75</td>\n",
       "      <td>0.0</td>\n",
       "      <td>0</td>\n",
       "      <td>1</td>\n",
       "      <td>1</td>\n",
       "    </tr>\n",
       "  </tbody>\n",
       "</table>\n",
       "</div>"
      ],
      "text/plain": [
       "              datetime  season  holiday  workingday  weather  temp   atemp  \\\n",
       "0  2011-01-01 00:00:00       1        0           0        1  9.84  14.395   \n",
       "1  2011-01-01 01:00:00       1        0           0        1  9.02  13.635   \n",
       "2  2011-01-01 02:00:00       1        0           0        1  9.02  13.635   \n",
       "3  2011-01-01 03:00:00       1        0           0        1  9.84  14.395   \n",
       "4  2011-01-01 04:00:00       1        0           0        1  9.84  14.395   \n",
       "\n",
       "   humidity  windspeed  casual  registered  count  \n",
       "0        81        0.0       3          13     16  \n",
       "1        80        0.0       8          32     40  \n",
       "2        80        0.0       5          27     32  \n",
       "3        75        0.0       3          10     13  \n",
       "4        75        0.0       0           1      1  "
      ]
     },
     "execution_count": 3,
     "metadata": {},
     "output_type": "execute_result"
    }
   ],
   "source": [
    "df.head()"
   ]
  },
  {
   "cell_type": "code",
   "execution_count": 4,
   "id": "dac31abe",
   "metadata": {},
   "outputs": [
    {
     "data": {
      "text/plain": [
       "(10886, 12)"
      ]
     },
     "execution_count": 4,
     "metadata": {},
     "output_type": "execute_result"
    }
   ],
   "source": [
    "df.shape"
   ]
  },
  {
   "cell_type": "code",
   "execution_count": 5,
   "id": "2706f63d",
   "metadata": {},
   "outputs": [
    {
     "data": {
      "text/plain": [
       "datetime      0.0\n",
       "season        0.0\n",
       "holiday       0.0\n",
       "workingday    0.0\n",
       "weather       0.0\n",
       "temp          0.0\n",
       "atemp         0.0\n",
       "humidity      0.0\n",
       "windspeed     0.0\n",
       "casual        0.0\n",
       "registered    0.0\n",
       "count         0.0\n",
       "dtype: float64"
      ]
     },
     "execution_count": 5,
     "metadata": {},
     "output_type": "execute_result"
    }
   ],
   "source": [
    "### No null values found\n",
    "df.isnull().sum()/len(df)*100"
   ]
  },
  {
   "cell_type": "code",
   "execution_count": 6,
   "id": "3064c38b",
   "metadata": {},
   "outputs": [
    {
     "name": "stdout",
     "output_type": "stream",
     "text": [
      "<class 'pandas.core.frame.DataFrame'>\n",
      "RangeIndex: 10886 entries, 0 to 10885\n",
      "Data columns (total 12 columns):\n",
      " #   Column      Non-Null Count  Dtype  \n",
      "---  ------      --------------  -----  \n",
      " 0   datetime    10886 non-null  object \n",
      " 1   season      10886 non-null  int64  \n",
      " 2   holiday     10886 non-null  int64  \n",
      " 3   workingday  10886 non-null  int64  \n",
      " 4   weather     10886 non-null  int64  \n",
      " 5   temp        10886 non-null  float64\n",
      " 6   atemp       10886 non-null  float64\n",
      " 7   humidity    10886 non-null  int64  \n",
      " 8   windspeed   10886 non-null  float64\n",
      " 9   casual      10886 non-null  int64  \n",
      " 10  registered  10886 non-null  int64  \n",
      " 11  count       10886 non-null  int64  \n",
      "dtypes: float64(3), int64(8), object(1)\n",
      "memory usage: 1020.7+ KB\n"
     ]
    }
   ],
   "source": [
    "df.info()"
   ]
  },
  {
   "cell_type": "code",
   "execution_count": 7,
   "id": "9c7cf3a1",
   "metadata": {},
   "outputs": [],
   "source": [
    "df['datetime'] = pd.to_datetime(df['datetime'])"
   ]
  },
  {
   "cell_type": "code",
   "execution_count": 8,
   "id": "94a90268",
   "metadata": {},
   "outputs": [
    {
     "name": "stdout",
     "output_type": "stream",
     "text": [
      "<class 'pandas.core.frame.DataFrame'>\n",
      "RangeIndex: 10886 entries, 0 to 10885\n",
      "Data columns (total 12 columns):\n",
      " #   Column      Non-Null Count  Dtype         \n",
      "---  ------      --------------  -----         \n",
      " 0   datetime    10886 non-null  datetime64[ns]\n",
      " 1   season      10886 non-null  int64         \n",
      " 2   holiday     10886 non-null  int64         \n",
      " 3   workingday  10886 non-null  int64         \n",
      " 4   weather     10886 non-null  int64         \n",
      " 5   temp        10886 non-null  float64       \n",
      " 6   atemp       10886 non-null  float64       \n",
      " 7   humidity    10886 non-null  int64         \n",
      " 8   windspeed   10886 non-null  float64       \n",
      " 9   casual      10886 non-null  int64         \n",
      " 10  registered  10886 non-null  int64         \n",
      " 11  count       10886 non-null  int64         \n",
      "dtypes: datetime64[ns](1), float64(3), int64(8)\n",
      "memory usage: 1020.7 KB\n"
     ]
    }
   ],
   "source": [
    "df.info()"
   ]
  },
  {
   "cell_type": "markdown",
   "id": "7e1ae24e",
   "metadata": {},
   "source": [
    "### Column Profiling:\n",
    "\n",
    "    -> datetime: datetime\n",
    "    -> season: season (1: spring, 2: summer, 3: fall, 4: winter)\n",
    "    -> holiday: whether day is a holiday or not (extracted from http://dchr.dc.gov/page/holiday-schedule)\n",
    "    -> workingday: if day is neither weekend nor holiday is 1, otherwise is 0.\n",
    "    -> weather:\n",
    "            1: Clear, Few clouds, partly cloudy, partly cloudy\n",
    "            2: Mist + Cloudy, Mist + Broken clouds, Mist + Few clouds, Mist\n",
    "            3: Light Snow, Light Rain + Thunderstorm + Scattered clouds, Light Rain + Scattered clouds\n",
    "            4: Heavy Rain + Ice Pallets + Thunderstorm + Mist, Snow + Fog\n",
    "    -> temp: temperature in Celsius\n",
    "    -> atemp: feeling temperature in Celsius\n",
    "    -> humidity: humidity\n",
    "    -> windspeed: wind speed\n",
    "    -> casual: count of casual users\n",
    "    -> registered: count of registered users\n",
    "    -> count: count of total rental bikes including both casual and registered"
   ]
  },
  {
   "cell_type": "code",
   "execution_count": 9,
   "id": "12265684",
   "metadata": {
    "scrolled": false
   },
   "outputs": [
    {
     "name": "stdout",
     "output_type": "stream",
     "text": [
      "\u001b[1mdatetime\u001b[0m : ['2011-01-01T00:00:00.000000000' '2011-01-01T01:00:00.000000000'\n",
      " '2011-01-01T02:00:00.000000000' ... '2012-12-19T21:00:00.000000000'\n",
      " '2012-12-19T22:00:00.000000000' '2012-12-19T23:00:00.000000000'], \u001b[1mCount\u001b[0m : 10886 \n",
      "\n",
      "\u001b[1mseason\u001b[0m : [1 2 3 4], \u001b[1mCount\u001b[0m : 4 \n",
      "\n",
      "\u001b[1mholiday\u001b[0m : [0 1], \u001b[1mCount\u001b[0m : 2 \n",
      "\n",
      "\u001b[1mworkingday\u001b[0m : [0 1], \u001b[1mCount\u001b[0m : 2 \n",
      "\n",
      "\u001b[1mweather\u001b[0m : [1 2 3 4], \u001b[1mCount\u001b[0m : 4 \n",
      "\n",
      "\u001b[1mtemp\u001b[0m : [ 9.84  9.02  8.2  13.12 15.58 14.76 17.22 18.86 18.04 16.4  13.94 12.3\n",
      " 10.66  6.56  5.74  7.38  4.92 11.48  4.1   3.28  2.46 21.32 22.96 23.78\n",
      " 24.6  19.68 22.14 20.5  27.06 26.24 25.42 27.88 28.7  30.34 31.16 29.52\n",
      " 33.62 35.26 36.9  32.8  31.98 34.44 36.08 37.72 38.54  1.64  0.82 39.36\n",
      " 41.  ], \u001b[1mCount\u001b[0m : 49 \n",
      "\n",
      "\u001b[1matemp\u001b[0m : [14.395 13.635 12.88  17.425 19.695 16.665 21.21  22.725 21.97  20.455\n",
      " 11.365 10.605  9.85   8.335  6.82   5.305  6.06   9.09  12.12   7.575\n",
      " 15.91   3.03   3.79   4.545 15.15  18.18  25.    26.515 27.275 29.545\n",
      " 23.485 25.76  31.06  30.305 24.24  18.94  31.82  32.575 33.335 28.79\n",
      " 34.85  35.605 37.12  40.15  41.665 40.91  39.395 34.09  28.03  36.365\n",
      " 37.88  42.425 43.94  38.635  1.515  0.76   2.275 43.18  44.695 45.455], \u001b[1mCount\u001b[0m : 60 \n",
      "\n",
      "\u001b[1mhumidity\u001b[0m : [ 81  80  75  86  76  77  72  82  88  87  94 100  71  66  57  46  42  39\n",
      "  44  47  50  43  40  35  30  32  64  69  55  59  63  68  74  51  56  52\n",
      "  49  48  37  33  28  38  36  93  29  53  34  54  41  45  92  62  58  61\n",
      "  60  65  70  27  25  26  31  73  21  24  23  22  19  15  67  10   8  12\n",
      "  14  13  17  16  18  20  85   0  83  84  78  79  89  97  90  96  91], \u001b[1mCount\u001b[0m : 89 \n",
      "\n",
      "\u001b[1mwindspeed\u001b[0m : [ 0.      6.0032 16.9979 19.0012 19.9995 12.998  15.0013  8.9981 11.0014\n",
      " 22.0028 30.0026 23.9994 27.9993 26.0027  7.0015 32.9975 36.9974 31.0009\n",
      " 35.0008 39.0007 43.9989 40.9973 51.9987 46.0022 50.0021 43.0006 56.9969\n",
      " 47.9988], \u001b[1mCount\u001b[0m : 28 \n",
      "\n",
      "\u001b[1mcasual\u001b[0m : [  3   8   5   0   2   1  12  26  29  47  35  40  41  15   9   6  11   4\n",
      "   7  16  20  19  10  13  14  18  17  21  33  23  22  28  48  52  42  24\n",
      "  30  27  32  58  62  51  25  31  59  45  73  55  68  34  38 102  84  39\n",
      "  36  43  46  60  80  83  74  37  70  81 100  99  54  88  97 144 149 124\n",
      "  98  50  72  57  71  67  95  90 126 174 168 170 175 138  92  56 111  89\n",
      "  69 139 166 219 240 147 148  78  53  63  79 114  94  85 128  93 121 156\n",
      " 135 103  44  49  64  91 119 167 181 179 161 143  75  66 109 123 113  65\n",
      "  86  82 132 129 196 142 122 106  61 107 120 195 183 206 158 137  76 115\n",
      " 150 188 193 180 127 154 108  96 110 112 169 131 176 134 162 153 210 118\n",
      " 141 146 159 178 177 136 215 198 248 225 194 237 242 235 224 236 222  77\n",
      "  87 101 145 182 171 160 133 105 104 187 221 201 205 234 185 164 200 130\n",
      " 155 116 125 204 186 214 245 218 217 152 191 256 251 262 189 212 272 223\n",
      " 208 165 229 151 117 199 140 226 286 352 357 367 291 233 190 283 295 232\n",
      " 173 184 172 320 355 326 321 354 299 227 254 260 207 274 308 288 311 253\n",
      " 197 163 275 298 282 266 220 241 230 157 293 257 269 255 228 276 332 361\n",
      " 356 331 279 203 250 259 297 265 267 192 239 238 213 264 244 243 246 289\n",
      " 287 209 263 249 247 284 327 325 312 350 258 362 310 317 268 202 294 280\n",
      " 216 292 304], \u001b[1mCount\u001b[0m : 309 \n",
      "\n",
      "\u001b[1mregistered\u001b[0m : [ 13  32  27  10   1   0   2   7   6  24  30  55  47  71  70  52  26  31\n",
      "  25  17  16   8   4  19  46  54  73  64  67  58  43  29  20   9   5   3\n",
      "  63 153  81  33  41  48  53  66 146 148 102  49  11  36  92 177  98  37\n",
      "  50  79  68 202 179 110  34  87 192 109  74  65  85 186 166 127  82  40\n",
      "  18  95 216 116  42  57  78  59 163 158  51  76 190 125 178  39  14  15\n",
      "  56  60  90  83  69  28  35  22  12  77  44  38  75 184 174 154  97 214\n",
      "  45  72 130  94 139 135 197 137 141 156 117 155 134  89  80 108  61 124\n",
      " 132 196 107 114 172 165 105 119 183 175  88  62  86 170 145 217  91 195\n",
      " 152  21 126 115 223 207 123 236 128 151 100 198 157 168  84  99 173 121\n",
      " 159  93  23 212 111 193 103 113 122 106  96 249 218 194 213 191 142 224\n",
      " 244 143 267 256 211 161 131 246 118 164 275 204 230 243 112 238 144 185\n",
      " 101 222 138 206 104 200 129 247 140 209 136 176 120 229 210 133 259 147\n",
      " 227 150 282 162 265 260 189 237 245 205 308 283 248 303 291 280 208 286\n",
      " 352 290 262 203 284 293 160 182 316 338 279 187 277 362 321 331 372 377\n",
      " 350 220 472 450 268 435 169 225 464 485 323 388 367 266 255 415 233 467\n",
      " 456 305 171 470 385 253 215 240 235 263 221 351 539 458 339 301 397 271\n",
      " 532 480 365 241 421 242 234 341 394 540 463 361 429 359 180 188 261 254\n",
      " 366 181 398 272 167 149 325 521 426 298 428 487 431 288 239 453 454 345\n",
      " 417 434 278 285 442 484 451 252 471 488 270 258 264 281 410 516 500 343\n",
      " 311 432 475 479 355 329 199 400 414 423 232 219 302 529 510 348 346 441\n",
      " 473 335 445 555 527 273 364 299 269 257 342 324 226 391 466 297 517 486\n",
      " 489 492 228 289 455 382 380 295 251 418 412 340 433 231 333 514 483 276\n",
      " 478 287 381 334 347 320 493 491 369 201 408 378 443 460 465 313 513 292\n",
      " 497 376 326 413 328 525 296 452 506 393 368 337 567 462 349 319 300 515\n",
      " 373 399 507 396 512 503 386 427 312 384 530 310 536 437 505 371 375 534\n",
      " 469 474 553 402 274 523 448 409 387 438 407 250 459 425 422 379 392 430\n",
      " 401 306 370 449 363 389 374 436 356 317 446 294 508 315 522 494 327 495\n",
      " 404 447 504 318 579 551 498 533 332 554 509 573 545 395 440 547 557 623\n",
      " 571 614 638 628 642 647 602 634 648 353 322 357 314 563 615 681 601 543\n",
      " 577 354 661 653 304 645 646 419 610 677 618 595 565 586 670 656 626 581\n",
      " 546 604 596 383 621 564 309 360 330 549 589 461 631 673 358 651 663 538\n",
      " 616 662 344 640 659 770 608 617 584 307 667 605 641 594 629 603 518 665\n",
      " 769 749 499 719 734 696 688 570 675 405 411 643 733 390 680 764 679 531\n",
      " 637 652 778 703 537 576 613 715 726 598 625 444 672 782 548 682 750 716\n",
      " 609 698 572 669 633 725 704 658 620 542 575 511 741 790 644 740 735 560\n",
      " 739 439 660 697 336 619 712 624 580 678 684 468 649 786 718 775 636 578\n",
      " 746 743 481 664 711 689 751 745 424 699 552 709 591 757 768 767 723 558\n",
      " 561 403 502 692 780 622 761 690 744 857 562 702 802 727 811 886 406 787\n",
      " 496 708 758 812 807 791 639 781 833 756 544 789 742 655 416 806 773 737\n",
      " 706 566 713 800 839 779 766 794 803 788 720 668 490 568 597 477 583 501\n",
      " 556 593 420 541 694 650 559 666 700 693 582], \u001b[1mCount\u001b[0m : 731 \n",
      "\n",
      "\u001b[1mcount\u001b[0m : [ 16  40  32  13   1   2   3   8  14  36  56  84  94 106 110  93  67  35\n",
      "  37  34  28  39  17   9   6  20  53  70  75  59  74  76  65  30  22  31\n",
      "   5  64 154  88  44  51  61  77  72 157  52  12   4 179 100  42  57  78\n",
      "  97  63  83 212 182 112  54  48  11  33 195 115  46  79  71  62  89 190\n",
      " 169 132  43  19  95 219 122  45  86 172 163  69  23   7 210 134  73  50\n",
      "  87 187 123  15  25  98 102  55  10  49  82  92  41  38 188  47 178 155\n",
      "  24  18  27  99 217 130 136  29 128  81  68 139 137 202  60 162 144 158\n",
      " 117  90 159 101 118 129  26 104  91 113 105  21  80 125 133 197 109 161\n",
      " 135 116 176 168 108 103 175 147  96 220 127 205 174 121 230  66 114 216\n",
      " 243 152 199  58 166 170 165 160 140 211 120 145 256 126 223  85 206 124\n",
      " 255 222 285 146 274 272 185 191 232 327 224 107 119 196 171 214 242 148\n",
      " 268 201 150 111 167 228 198 204 164 233 257 151 248 235 141 249 194 259\n",
      " 156 153 244 213 181 221 250 304 241 271 282 225 253 237 299 142 313 310\n",
      " 207 138 280 173 332 331 149 267 301 312 278 281 184 215 367 349 292 303\n",
      " 339 143 189 366 386 273 325 356 314 343 333 226 203 177 263 297 288 236\n",
      " 240 131 452 383 284 291 309 321 193 337 388 300 200 180 209 354 361 306\n",
      " 277 428 362 286 351 192 411 421 276 264 238 266 371 269 537 518 218 265\n",
      " 459 186 517 544 365 290 410 396 296 440 533 520 258 450 246 260 344 553\n",
      " 470 298 347 373 436 378 342 289 340 382 390 358 385 239 374 598 524 384\n",
      " 425 611 550 434 318 442 401 234 594 527 364 387 491 398 270 279 294 295\n",
      " 322 456 437 392 231 394 453 308 604 480 283 565 489 487 183 302 547 513\n",
      " 454 486 467 572 525 379 502 558 564 391 293 247 317 369 420 451 404 341\n",
      " 251 335 417 363 357 438 579 556 407 336 334 477 539 551 424 346 353 481\n",
      " 506 432 409 466 326 254 463 380 275 311 315 360 350 252 328 476 227 601\n",
      " 586 423 330 569 538 370 498 638 607 416 261 355 552 208 468 449 381 377\n",
      " 397 492 427 461 422 305 375 376 414 447 408 418 457 545 496 368 245 596\n",
      " 563 443 562 229 316 402 287 372 514 472 511 488 419 595 578 400 348 587\n",
      " 497 433 475 406 430 324 262 323 412 530 543 413 435 555 523 441 529 532\n",
      " 585 399 584 559 307 582 571 426 516 465 329 483 600 570 628 531 455 389\n",
      " 505 359 431 460 590 429 599 338 566 482 568 540 495 345 591 593 446 485\n",
      " 393 500 473 352 320 479 444 462 405 620 499 625 395 528 319 519 445 512\n",
      " 471 508 526 509 484 448 515 549 501 612 597 464 644 712 676 734 662 782\n",
      " 749 623 713 746 651 686 690 679 685 648 560 503 521 554 541 721 801 561\n",
      " 573 589 729 618 494 757 800 684 744 759 822 698 490 536 655 643 626 615\n",
      " 567 617 632 646 692 704 624 656 610 738 671 678 660 658 635 681 616 522\n",
      " 673 781 775 576 677 748 776 557 743 666 813 504 627 706 641 575 639 769\n",
      " 680 546 717 710 458 622 705 630 732 770 439 779 659 602 478 733 650 873\n",
      " 846 474 634 852 868 745 812 669 642 730 672 645 694 493 668 647 702 665\n",
      " 834 850 790 415 724 869 700 793 723 534 831 613 653 857 719 867 823 403\n",
      " 693 603 583 542 614 580 811 795 747 581 722 689 849 872 631 649 819 674\n",
      " 830 814 633 825 629 835 667 755 794 661 772 657 771 777 837 891 652 739\n",
      " 865 767 741 469 605 858 843 640 737 862 810 577 818 854 682 851 848 897\n",
      " 832 791 654 856 839 725 863 808 792 696 701 871 968 750 970 877 925 977\n",
      " 758 884 766 894 715 783 683 842 774 797 886 892 784 687 809 917 901 887\n",
      " 785 900 761 806 507 948 844 798 827 670 637 619 592 943 838 817 888 890\n",
      " 788 588 606 608 691 711 663 731 708 609 688 636], \u001b[1mCount\u001b[0m : 822 \n",
      "\n"
     ]
    }
   ],
   "source": [
    "#unique values and its count for each columns\n",
    "for i in df.columns:\n",
    "    print(f'\\033[1m{i}\\033[0m : {df[i].unique()}, \\033[1mCount\\033[0m : {len(df[i].unique())} \\n')"
   ]
  },
  {
   "cell_type": "code",
   "execution_count": 10,
   "id": "5523bd85",
   "metadata": {},
   "outputs": [
    {
     "data": {
      "text/html": [
       "<div>\n",
       "<style scoped>\n",
       "    .dataframe tbody tr th:only-of-type {\n",
       "        vertical-align: middle;\n",
       "    }\n",
       "\n",
       "    .dataframe tbody tr th {\n",
       "        vertical-align: top;\n",
       "    }\n",
       "\n",
       "    .dataframe thead th {\n",
       "        text-align: right;\n",
       "    }\n",
       "</style>\n",
       "<table border=\"1\" class=\"dataframe\">\n",
       "  <thead>\n",
       "    <tr style=\"text-align: right;\">\n",
       "      <th></th>\n",
       "      <th>temp</th>\n",
       "      <th>atemp</th>\n",
       "      <th>humidity</th>\n",
       "      <th>windspeed</th>\n",
       "      <th>casual</th>\n",
       "      <th>registered</th>\n",
       "      <th>count</th>\n",
       "    </tr>\n",
       "  </thead>\n",
       "  <tbody>\n",
       "    <tr>\n",
       "      <th>mean</th>\n",
       "      <td>20.23086</td>\n",
       "      <td>23.655084</td>\n",
       "      <td>61.886460</td>\n",
       "      <td>12.799395</td>\n",
       "      <td>36.021955</td>\n",
       "      <td>155.552177</td>\n",
       "      <td>191.574132</td>\n",
       "    </tr>\n",
       "    <tr>\n",
       "      <th>std</th>\n",
       "      <td>7.79159</td>\n",
       "      <td>8.474601</td>\n",
       "      <td>19.245033</td>\n",
       "      <td>8.164537</td>\n",
       "      <td>49.960477</td>\n",
       "      <td>151.039033</td>\n",
       "      <td>181.144454</td>\n",
       "    </tr>\n",
       "    <tr>\n",
       "      <th>min</th>\n",
       "      <td>0.82000</td>\n",
       "      <td>0.760000</td>\n",
       "      <td>0.000000</td>\n",
       "      <td>0.000000</td>\n",
       "      <td>0.000000</td>\n",
       "      <td>0.000000</td>\n",
       "      <td>1.000000</td>\n",
       "    </tr>\n",
       "    <tr>\n",
       "      <th>25%</th>\n",
       "      <td>13.94000</td>\n",
       "      <td>16.665000</td>\n",
       "      <td>47.000000</td>\n",
       "      <td>7.001500</td>\n",
       "      <td>4.000000</td>\n",
       "      <td>36.000000</td>\n",
       "      <td>42.000000</td>\n",
       "    </tr>\n",
       "    <tr>\n",
       "      <th>50%</th>\n",
       "      <td>20.50000</td>\n",
       "      <td>24.240000</td>\n",
       "      <td>62.000000</td>\n",
       "      <td>12.998000</td>\n",
       "      <td>17.000000</td>\n",
       "      <td>118.000000</td>\n",
       "      <td>145.000000</td>\n",
       "    </tr>\n",
       "    <tr>\n",
       "      <th>75%</th>\n",
       "      <td>26.24000</td>\n",
       "      <td>31.060000</td>\n",
       "      <td>77.000000</td>\n",
       "      <td>16.997900</td>\n",
       "      <td>49.000000</td>\n",
       "      <td>222.000000</td>\n",
       "      <td>284.000000</td>\n",
       "    </tr>\n",
       "    <tr>\n",
       "      <th>max</th>\n",
       "      <td>41.00000</td>\n",
       "      <td>45.455000</td>\n",
       "      <td>100.000000</td>\n",
       "      <td>56.996900</td>\n",
       "      <td>367.000000</td>\n",
       "      <td>886.000000</td>\n",
       "      <td>977.000000</td>\n",
       "    </tr>\n",
       "  </tbody>\n",
       "</table>\n",
       "</div>"
      ],
      "text/plain": [
       "          temp      atemp    humidity  windspeed      casual  registered  \\\n",
       "mean  20.23086  23.655084   61.886460  12.799395   36.021955  155.552177   \n",
       "std    7.79159   8.474601   19.245033   8.164537   49.960477  151.039033   \n",
       "min    0.82000   0.760000    0.000000   0.000000    0.000000    0.000000   \n",
       "25%   13.94000  16.665000   47.000000   7.001500    4.000000   36.000000   \n",
       "50%   20.50000  24.240000   62.000000  12.998000   17.000000  118.000000   \n",
       "75%   26.24000  31.060000   77.000000  16.997900   49.000000  222.000000   \n",
       "max   41.00000  45.455000  100.000000  56.996900  367.000000  886.000000   \n",
       "\n",
       "           count  \n",
       "mean  191.574132  \n",
       "std   181.144454  \n",
       "min     1.000000  \n",
       "25%    42.000000  \n",
       "50%   145.000000  \n",
       "75%   284.000000  \n",
       "max   977.000000  "
      ]
     },
     "execution_count": 10,
     "metadata": {},
     "output_type": "execute_result"
    }
   ],
   "source": [
    "df.describe().drop('count').loc[:,'temp':'count']"
   ]
  },
  {
   "cell_type": "code",
   "execution_count": 11,
   "id": "386489ea",
   "metadata": {},
   "outputs": [
    {
     "name": "stdout",
     "output_type": "stream",
     "text": [
      "[2011 2012]\n",
      "[ 1  2  3  4  5  6  7  8  9 10 11 12]\n",
      "[datetime.time(0, 0) datetime.time(1, 0) datetime.time(2, 0)\n",
      " datetime.time(3, 0) datetime.time(4, 0) datetime.time(5, 0)\n",
      " datetime.time(6, 0) datetime.time(7, 0) datetime.time(8, 0)\n",
      " datetime.time(9, 0) datetime.time(10, 0) datetime.time(11, 0)\n",
      " datetime.time(12, 0) datetime.time(13, 0) datetime.time(14, 0)\n",
      " datetime.time(15, 0) datetime.time(16, 0) datetime.time(17, 0)\n",
      " datetime.time(18, 0) datetime.time(19, 0) datetime.time(20, 0)\n",
      " datetime.time(21, 0) datetime.time(22, 0) datetime.time(23, 0)]\n"
     ]
    }
   ],
   "source": [
    "### We have the data of number of purchases at every hour on most of the days from 2011 and 2012 years. \n",
    "print(df['datetime'].dt.year.unique())\n",
    "print(df['datetime'].dt.month.unique())\n",
    "print(df['datetime'].dt.time.unique())"
   ]
  },
  {
   "cell_type": "code",
   "execution_count": 12,
   "id": "7ae09bed",
   "metadata": {},
   "outputs": [
    {
     "name": "stdout",
     "output_type": "stream",
     "text": [
      "5     1.266667\n",
      "6     1.266667\n",
      "7     1.266667\n",
      "8     1.266667\n",
      "12    1.266667\n",
      "10    1.265278\n",
      "11    1.265278\n",
      "4     1.262500\n",
      "9     1.262500\n",
      "2     1.251389\n",
      "3     1.251389\n",
      "1     1.227778\n",
      "Name: datetime, dtype: float64\n"
     ]
    }
   ],
   "source": [
    "print(df['datetime'].dt.month.value_counts()/(24*30))"
   ]
  },
  {
   "cell_type": "code",
   "execution_count": 13,
   "id": "1c732a5a",
   "metadata": {},
   "outputs": [
    {
     "data": {
      "text/plain": [
       "datetime\n",
       "2011     781979\n",
       "2012    1303497\n",
       "Name: count, dtype: int64"
      ]
     },
     "execution_count": 13,
     "metadata": {},
     "output_type": "execute_result"
    }
   ],
   "source": [
    "df.groupby(df['datetime'].dt.year)['count'].sum()"
   ]
  },
  {
   "cell_type": "code",
   "execution_count": 14,
   "id": "05345ccc",
   "metadata": {},
   "outputs": [
    {
     "data": {
      "image/png": "[encoded data removed]",
      "text/plain": [
       "<Figure size 432x288 with 1 Axes>"
      ]
     },
     "metadata": {
      "needs_background": "light"
     },
     "output_type": "display_data"
    }
   ],
   "source": [
    "### Bivariate analysis of total vehicle count for 2011 and 2012\n",
    "df.groupby(df['datetime'].dt.year)['count'].sum().plot(kind = 'bar')\n",
    "plt.show()"
   ]
  },
  {
   "cell_type": "code",
   "execution_count": 15,
   "id": "07856324",
   "metadata": {},
   "outputs": [
    {
     "data": {
      "text/plain": [
       "array([ 0,  1,  2,  3,  4,  5,  6,  7,  8,  9, 10, 11, 12, 13, 14, 15, 16,\n",
       "       17, 18, 19, 20, 21, 22, 23])"
      ]
     },
     "execution_count": 15,
     "metadata": {},
     "output_type": "execute_result"
    }
   ],
   "source": [
    "np.arange(0,24,1)"
   ]
  },
  {
   "cell_type": "code",
   "execution_count": 16,
   "id": "95bb5774",
   "metadata": {
    "scrolled": false
   },
   "outputs": [
    {
     "name": "stdout",
     "output_type": "stream",
     "text": [
      "\u001b[1mJan\u001b[0m\n"
     ]
    },
    {
     "data": {
      "image/png": "[encoded data removed]",
      "text/plain": [
       "<Figure size 432x288 with 1 Axes>"
      ]
     },
     "metadata": {
      "needs_background": "light"
     },
     "output_type": "display_data"
    },
    {
     "name": "stdout",
     "output_type": "stream",
     "text": [
      "\u001b[1mFeb\u001b[0m\n"
     ]
    },
    {
     "data": {
      "image/png": "[encoded data removed]",
      "text/plain": [
       "<Figure size 432x288 with 1 Axes>"
      ]
     },
     "metadata": {
      "needs_background": "light"
     },
     "output_type": "display_data"
    },
    {
     "name": "stdout",
     "output_type": "stream",
     "text": [
      "\u001b[1mMar\u001b[0m\n"
     ]
    },
    {
     "data": {
      "image/png": "[encoded data removed]",
      "text/plain": [
       "<Figure size 432x288 with 1 Axes>"
      ]
     },
     "metadata": {
      "needs_background": "light"
     },
     "output_type": "display_data"
    },
    {
     "name": "stdout",
     "output_type": "stream",
     "text": [
      "\u001b[1mApr\u001b[0m\n"
     ]
    },
    {
     "data": {
      "image/png": "[encoded data removed]",
      "text/plain": [
       "<Figure size 432x288 with 1 Axes>"
      ]
     },
     "metadata": {
      "needs_background": "light"
     },
     "output_type": "display_data"
    },
    {
     "name": "stdout",
     "output_type": "stream",
     "text": [
      "\u001b[1mMay\u001b[0m\n"
     ]
    },
    {
     "data": {
      "image/png": "[encoded data removed]",
      "text/plain": [
       "<Figure size 432x288 with 1 Axes>"
      ]
     },
     "metadata": {
      "needs_background": "light"
     },
     "output_type": "display_data"
    },
    {
     "name": "stdout",
     "output_type": "stream",
     "text": [
      "\u001b[1mJun\u001b[0m\n"
     ]
    },
    {
     "data": {
      "image/png": "[encoded data removed]",
      "text/plain": [
       "<Figure size 432x288 with 1 Axes>"
      ]
     },
     "metadata": {
      "needs_background": "light"
     },
     "output_type": "display_data"
    },
    {
     "name": "stdout",
     "output_type": "stream",
     "text": [
      "\u001b[1mJul\u001b[0m\n"
     ]
    },
    {
     "data": {
      "image/png": "[encoded data removed]",
      "text/plain": [
       "<Figure size 432x288 with 1 Axes>"
      ]
     },
     "metadata": {
      "needs_background": "light"
     },
     "output_type": "display_data"
    },
    {
     "name": "stdout",
     "output_type": "stream",
     "text": [
      "\u001b[1mAug\u001b[0m\n"
     ]
    },
    {
     "data": {
      "image/png": "[encoded data removed]",
      "text/plain": [
       "<Figure size 432x288 with 1 Axes>"
      ]
     },
     "metadata": {
      "needs_background": "light"
     },
     "output_type": "display_data"
    },
    {
     "name": "stdout",
     "output_type": "stream",
     "text": [
      "\u001b[1mSep\u001b[0m\n"
     ]
    },
    {
     "data": {
      "image/png": "[encoded data removed]",
      "text/plain": [
       "<Figure size 432x288 with 1 Axes>"
      ]
     },
     "metadata": {
      "needs_background": "light"
     },
     "output_type": "display_data"
    },
    {
     "name": "stdout",
     "output_type": "stream",
     "text": [
      "\u001b[1mOct\u001b[0m\n"
     ]
    },
    {
     "data": {
      "image/png": "[encoded data removed]",
      "text/plain": [
       "<Figure size 432x288 with 1 Axes>"
      ]
     },
     "metadata": {
      "needs_background": "light"
     },
     "output_type": "display_data"
    },
    {
     "name": "stdout",
     "output_type": "stream",
     "text": [
      "\u001b[1mNov\u001b[0m\n"
     ]
    },
    {
     "data": {
      "image/png": "[encoded data removed]",
      "text/plain": [
       "<Figure size 432x288 with 1 Axes>"
      ]
     },
     "metadata": {
      "needs_background": "light"
     },
     "output_type": "display_data"
    },
    {
     "name": "stdout",
     "output_type": "stream",
     "text": [
      "\u001b[1mDec\u001b[0m\n"
     ]
    },
    {
     "data": {
      "image/png": "[encoded data removed]",
      "text/plain": [
       "<Figure size 432x288 with 1 Axes>"
      ]
     },
     "metadata": {
      "needs_background": "light"
     },
     "output_type": "display_data"
    }
   ],
   "source": [
    "### Bivariate analysis of total vehicle count across all hours for all the months 2011 and 2012 combined\n",
    "d={1:'Jan', 2:'Feb', 3:'Mar', 4:'Apr', 5:'May', 6:'Jun', 7:'Jul', 8:'Aug', 9:'Sep', 10:'Oct', 11:'Nov', 12:'Dec'}\n",
    "for i in range(1,13):\n",
    "    print(f'\\033[1m{d[i]}\\033[0m')\n",
    "    df[df['datetime'].dt.month == i].groupby(df['datetime'].dt.time)['count'].sum().plot(kind = 'bar')\n",
    "    plt.show()"
   ]
  },
  {
   "cell_type": "code",
   "execution_count": 17,
   "id": "e71e068b",
   "metadata": {},
   "outputs": [
    {
     "data": {
      "text/plain": [
       "datetime\n",
       "04:00:00      2832\n",
       "03:00:00      5091\n",
       "05:00:00      8935\n",
       "02:00:00     10259\n",
       "01:00:00     15372\n",
       "00:00:00     25088\n",
       "06:00:00     34698\n",
       "23:00:00     40816\n",
       "22:00:00     60911\n",
       "21:00:00     79057\n",
       "10:00:00     79667\n",
       "11:00:00     95857\n",
       "07:00:00     96968\n",
       "09:00:00    100910\n",
       "20:00:00    104204\n",
       "14:00:00    111010\n",
       "15:00:00    115960\n",
       "12:00:00    116968\n",
       "13:00:00    117551\n",
       "19:00:00    143767\n",
       "16:00:00    144266\n",
       "08:00:00    165060\n",
       "18:00:00    196472\n",
       "17:00:00    213757\n",
       "Name: count, dtype: int64"
      ]
     },
     "execution_count": 17,
     "metadata": {},
     "output_type": "execute_result"
    }
   ],
   "source": [
    "df.groupby(df['datetime'].dt.time)['count'].sum().sort_values()"
   ]
  },
  {
   "cell_type": "code",
   "execution_count": 18,
   "id": "9bca6ef4",
   "metadata": {},
   "outputs": [
    {
     "data": {
      "image/png": "[encoded data removed]",
      "text/plain": [
       "<Figure size 432x288 with 1 Axes>"
      ]
     },
     "metadata": {
      "needs_background": "light"
     },
     "output_type": "display_data"
    }
   ],
   "source": [
    "### Bivariate analysis of total vehicle count across all the hours\n",
    "\n",
    "df.groupby(df['datetime'].dt.time)['count'].sum().plot(kind = 'bar')\n",
    "plt.show()"
   ]
  },
  {
   "cell_type": "code",
   "execution_count": 19,
   "id": "42598e99",
   "metadata": {},
   "outputs": [
    {
     "data": {
      "text/html": [
       "<div>\n",
       "<style scoped>\n",
       "    .dataframe tbody tr th:only-of-type {\n",
       "        vertical-align: middle;\n",
       "    }\n",
       "\n",
       "    .dataframe tbody tr th {\n",
       "        vertical-align: top;\n",
       "    }\n",
       "\n",
       "    .dataframe thead th {\n",
       "        text-align: right;\n",
       "    }\n",
       "</style>\n",
       "<table border=\"1\" class=\"dataframe\">\n",
       "  <thead>\n",
       "    <tr style=\"text-align: right;\">\n",
       "      <th></th>\n",
       "      <th>datetime</th>\n",
       "      <th>season</th>\n",
       "      <th>holiday</th>\n",
       "      <th>workingday</th>\n",
       "      <th>weather</th>\n",
       "      <th>temp</th>\n",
       "      <th>atemp</th>\n",
       "      <th>humidity</th>\n",
       "      <th>windspeed</th>\n",
       "      <th>casual</th>\n",
       "      <th>registered</th>\n",
       "      <th>count</th>\n",
       "    </tr>\n",
       "  </thead>\n",
       "  <tbody>\n",
       "    <tr>\n",
       "      <th>0</th>\n",
       "      <td>2011-01-01 00:00:00</td>\n",
       "      <td>1</td>\n",
       "      <td>0</td>\n",
       "      <td>0</td>\n",
       "      <td>1</td>\n",
       "      <td>9.84</td>\n",
       "      <td>14.395</td>\n",
       "      <td>81</td>\n",
       "      <td>0.0</td>\n",
       "      <td>3</td>\n",
       "      <td>13</td>\n",
       "      <td>16</td>\n",
       "    </tr>\n",
       "    <tr>\n",
       "      <th>1</th>\n",
       "      <td>2011-01-01 01:00:00</td>\n",
       "      <td>1</td>\n",
       "      <td>0</td>\n",
       "      <td>0</td>\n",
       "      <td>1</td>\n",
       "      <td>9.02</td>\n",
       "      <td>13.635</td>\n",
       "      <td>80</td>\n",
       "      <td>0.0</td>\n",
       "      <td>8</td>\n",
       "      <td>32</td>\n",
       "      <td>40</td>\n",
       "    </tr>\n",
       "    <tr>\n",
       "      <th>2</th>\n",
       "      <td>2011-01-01 02:00:00</td>\n",
       "      <td>1</td>\n",
       "      <td>0</td>\n",
       "      <td>0</td>\n",
       "      <td>1</td>\n",
       "      <td>9.02</td>\n",
       "      <td>13.635</td>\n",
       "      <td>80</td>\n",
       "      <td>0.0</td>\n",
       "      <td>5</td>\n",
       "      <td>27</td>\n",
       "      <td>32</td>\n",
       "    </tr>\n",
       "    <tr>\n",
       "      <th>3</th>\n",
       "      <td>2011-01-01 03:00:00</td>\n",
       "      <td>1</td>\n",
       "      <td>0</td>\n",
       "      <td>0</td>\n",
       "      <td>1</td>\n",
       "      <td>9.84</td>\n",
       "      <td>14.395</td>\n",
       "      <td>75</td>\n",
       "      <td>0.0</td>\n",
       "      <td>3</td>\n",
       "      <td>10</td>\n",
       "      <td>13</td>\n",
       "    </tr>\n",
       "    <tr>\n",
       "      <th>4</th>\n",
       "      <td>2011-01-01 04:00:00</td>\n",
       "      <td>1</td>\n",
       "      <td>0</td>\n",
       "      <td>0</td>\n",
       "      <td>1</td>\n",
       "      <td>9.84</td>\n",
       "      <td>14.395</td>\n",
       "      <td>75</td>\n",
       "      <td>0.0</td>\n",
       "      <td>0</td>\n",
       "      <td>1</td>\n",
       "      <td>1</td>\n",
       "    </tr>\n",
       "  </tbody>\n",
       "</table>\n",
       "</div>"
      ],
      "text/plain": [
       "             datetime  season  holiday  workingday  weather  temp   atemp  \\\n",
       "0 2011-01-01 00:00:00       1        0           0        1  9.84  14.395   \n",
       "1 2011-01-01 01:00:00       1        0           0        1  9.02  13.635   \n",
       "2 2011-01-01 02:00:00       1        0           0        1  9.02  13.635   \n",
       "3 2011-01-01 03:00:00       1        0           0        1  9.84  14.395   \n",
       "4 2011-01-01 04:00:00       1        0           0        1  9.84  14.395   \n",
       "\n",
       "   humidity  windspeed  casual  registered  count  \n",
       "0        81        0.0       3          13     16  \n",
       "1        80        0.0       8          32     40  \n",
       "2        80        0.0       5          27     32  \n",
       "3        75        0.0       3          10     13  \n",
       "4        75        0.0       0           1      1  "
      ]
     },
     "execution_count": 19,
     "metadata": {},
     "output_type": "execute_result"
    }
   ],
   "source": [
    "df.head()"
   ]
  },
  {
   "cell_type": "markdown",
   "id": "a0fc8153",
   "metadata": {},
   "source": [
    "### 2- Sample T-Test to check if Working Day has an effect on the number of electric cycles rented"
   ]
  },
  {
   "cell_type": "code",
   "execution_count": 20,
   "id": "c1e0f24a",
   "metadata": {},
   "outputs": [],
   "source": [
    "### Getting total vehicle rental count for each date\n",
    "df1 = df.groupby([df['datetime'].dt.date, 'workingday'])['count'].sum().to_frame().reset_index()"
   ]
  },
  {
   "cell_type": "code",
   "execution_count": 21,
   "id": "3697100a",
   "metadata": {},
   "outputs": [
    {
     "data": {
      "text/html": [
       "<div>\n",
       "<style scoped>\n",
       "    .dataframe tbody tr th:only-of-type {\n",
       "        vertical-align: middle;\n",
       "    }\n",
       "\n",
       "    .dataframe tbody tr th {\n",
       "        vertical-align: top;\n",
       "    }\n",
       "\n",
       "    .dataframe thead th {\n",
       "        text-align: right;\n",
       "    }\n",
       "</style>\n",
       "<table border=\"1\" class=\"dataframe\">\n",
       "  <thead>\n",
       "    <tr style=\"text-align: right;\">\n",
       "      <th></th>\n",
       "      <th>datetime</th>\n",
       "      <th>workingday</th>\n",
       "      <th>count</th>\n",
       "    </tr>\n",
       "  </thead>\n",
       "  <tbody>\n",
       "    <tr>\n",
       "      <th>0</th>\n",
       "      <td>2011-01-01</td>\n",
       "      <td>0</td>\n",
       "      <td>985</td>\n",
       "    </tr>\n",
       "    <tr>\n",
       "      <th>1</th>\n",
       "      <td>2011-01-02</td>\n",
       "      <td>0</td>\n",
       "      <td>801</td>\n",
       "    </tr>\n",
       "    <tr>\n",
       "      <th>2</th>\n",
       "      <td>2011-01-03</td>\n",
       "      <td>1</td>\n",
       "      <td>1349</td>\n",
       "    </tr>\n",
       "    <tr>\n",
       "      <th>3</th>\n",
       "      <td>2011-01-04</td>\n",
       "      <td>1</td>\n",
       "      <td>1562</td>\n",
       "    </tr>\n",
       "    <tr>\n",
       "      <th>4</th>\n",
       "      <td>2011-01-05</td>\n",
       "      <td>1</td>\n",
       "      <td>1600</td>\n",
       "    </tr>\n",
       "  </tbody>\n",
       "</table>\n",
       "</div>"
      ],
      "text/plain": [
       "     datetime  workingday  count\n",
       "0  2011-01-01           0    985\n",
       "1  2011-01-02           0    801\n",
       "2  2011-01-03           1   1349\n",
       "3  2011-01-04           1   1562\n",
       "4  2011-01-05           1   1600"
      ]
     },
     "execution_count": 21,
     "metadata": {},
     "output_type": "execute_result"
    }
   ],
   "source": [
    "df1.head()"
   ]
  },
  {
   "cell_type": "code",
   "execution_count": 22,
   "id": "ae67cacf",
   "metadata": {},
   "outputs": [
    {
     "data": {
      "text/plain": [
       "<AxesSubplot:>"
      ]
     },
     "execution_count": 22,
     "metadata": {},
     "output_type": "execute_result"
    },
    {
     "data": {
      "image/png": "[encoded data removed]",
      "text/plain": [
       "<Figure size 432x288 with 1 Axes>"
      ]
     },
     "metadata": {
      "needs_background": "light"
     },
     "output_type": "display_data"
    }
   ],
   "source": [
    "# no outliers found\n",
    "df1['count'].plot(kind = 'box')"
   ]
  },
  {
   "cell_type": "code",
   "execution_count": 23,
   "id": "b8475712",
   "metadata": {
    "scrolled": true
   },
   "outputs": [
    {
     "data": {
      "text/plain": [
       "(456, 3)"
      ]
     },
     "execution_count": 23,
     "metadata": {},
     "output_type": "execute_result"
    }
   ],
   "source": [
    "df1.shape"
   ]
  },
  {
   "cell_type": "code",
   "execution_count": 24,
   "id": "250d80e8",
   "metadata": {},
   "outputs": [
    {
     "data": {
      "image/png": "[encoded data removed]",
      "text/plain": [
       "<Figure size 432x288 with 1 Axes>"
      ]
     },
     "metadata": {
      "needs_background": "light"
     },
     "output_type": "display_data"
    }
   ],
   "source": [
    "# Kde curves\n",
    "df1[df1['workingday'] == 0]['count'].plot(kind = 'kde')\n",
    "df1[df1['workingday'] == 1]['count'].plot(kind = 'kde')\n",
    "plt.show()"
   ]
  },
  {
   "cell_type": "code",
   "execution_count": 25,
   "id": "6cccc8c1",
   "metadata": {},
   "outputs": [
    {
     "data": {
      "image/png": "[encoded data removed]",
      "text/plain": [
       "<Figure size 432x288 with 1 Axes>"
      ]
     },
     "metadata": {
      "needs_background": "light"
     },
     "output_type": "display_data"
    },
    {
     "data": {
      "image/png": "[encoded data removed]",
      "text/plain": [
       "<Figure size 432x288 with 1 Axes>"
      ]
     },
     "metadata": {
      "needs_background": "light"
     },
     "output_type": "display_data"
    }
   ],
   "source": [
    "# Both almost follow a normal dist\n",
    "sm.qqplot(df1[df1['workingday'] == 0]['count'], fit = True, line = '45')\n",
    "sm.qqplot(df1[df1['workingday'] == 1]['count'], fit = True, line = '45')\n",
    "plt.show()"
   ]
  },
  {
   "cell_type": "code",
   "execution_count": 26,
   "id": "142a2f2c",
   "metadata": {},
   "outputs": [],
   "source": [
    "### 2-sample T-test to check if Working Day has an effect on the number of electric cycles rented\n",
    "\n",
    "#let significance level(α) = 5%(0.05)\n",
    "\n",
    "# 0 - Non workind day\n",
    "# 1 - working day\n",
    "\n",
    "# Ho = mean difference between 2 samples is almost close to zero (Independent if we fail to reject Ho)\n",
    "# Ha = large positive or large negative mean difference between 2 samples (Dependent if reject Ho)\n",
    "sample1 = df1[df1['workingday'] == 0]['count']\n",
    "sample2 = df1[df1['workingday'] == 1]['count']"
   ]
  },
  {
   "cell_type": "code",
   "execution_count": 27,
   "id": "c7512b08",
   "metadata": {},
   "outputs": [
    {
     "data": {
      "text/plain": [
       "Ttest_indResult(statistic=-0.44477221614881995, pvalue=0.656696335987859)"
      ]
     },
     "execution_count": 27,
     "metadata": {},
     "output_type": "execute_result"
    }
   ],
   "source": [
    "# pvalue = 0.65 > 0.05 (α)\n",
    "# Hence, we fail to reject Ho. There is hardly any difference in means. Hence, we can conclude that working day does not have\n",
    "# any effect on electric vehicle rental count\n",
    "stats.ttest_ind(sample1, sample2)"
   ]
  },
  {
   "cell_type": "markdown",
   "id": "a54b5381",
   "metadata": {},
   "source": [
    "### Chi-square test to check if Weather is dependent on the season"
   ]
  },
  {
   "cell_type": "code",
   "execution_count": 28,
   "id": "f9f9289a",
   "metadata": {},
   "outputs": [
    {
     "data": {
      "text/html": [
       "<div>\n",
       "<style scoped>\n",
       "    .dataframe tbody tr th:only-of-type {\n",
       "        vertical-align: middle;\n",
       "    }\n",
       "\n",
       "    .dataframe tbody tr th {\n",
       "        vertical-align: top;\n",
       "    }\n",
       "\n",
       "    .dataframe thead th {\n",
       "        text-align: right;\n",
       "    }\n",
       "</style>\n",
       "<table border=\"1\" class=\"dataframe\">\n",
       "  <thead>\n",
       "    <tr style=\"text-align: right;\">\n",
       "      <th>season</th>\n",
       "      <th>1</th>\n",
       "      <th>2</th>\n",
       "      <th>3</th>\n",
       "      <th>4</th>\n",
       "      <th>All</th>\n",
       "    </tr>\n",
       "    <tr>\n",
       "      <th>weather</th>\n",
       "      <th></th>\n",
       "      <th></th>\n",
       "      <th></th>\n",
       "      <th></th>\n",
       "      <th></th>\n",
       "    </tr>\n",
       "  </thead>\n",
       "  <tbody>\n",
       "    <tr>\n",
       "      <th>1</th>\n",
       "      <td>1759</td>\n",
       "      <td>1801</td>\n",
       "      <td>1930</td>\n",
       "      <td>1702</td>\n",
       "      <td>7192</td>\n",
       "    </tr>\n",
       "    <tr>\n",
       "      <th>2</th>\n",
       "      <td>715</td>\n",
       "      <td>708</td>\n",
       "      <td>604</td>\n",
       "      <td>807</td>\n",
       "      <td>2834</td>\n",
       "    </tr>\n",
       "    <tr>\n",
       "      <th>3</th>\n",
       "      <td>211</td>\n",
       "      <td>224</td>\n",
       "      <td>199</td>\n",
       "      <td>225</td>\n",
       "      <td>859</td>\n",
       "    </tr>\n",
       "    <tr>\n",
       "      <th>4</th>\n",
       "      <td>1</td>\n",
       "      <td>0</td>\n",
       "      <td>0</td>\n",
       "      <td>0</td>\n",
       "      <td>1</td>\n",
       "    </tr>\n",
       "    <tr>\n",
       "      <th>All</th>\n",
       "      <td>2686</td>\n",
       "      <td>2733</td>\n",
       "      <td>2733</td>\n",
       "      <td>2734</td>\n",
       "      <td>10886</td>\n",
       "    </tr>\n",
       "  </tbody>\n",
       "</table>\n",
       "</div>"
      ],
      "text/plain": [
       "season      1     2     3     4    All\n",
       "weather                               \n",
       "1        1759  1801  1930  1702   7192\n",
       "2         715   708   604   807   2834\n",
       "3         211   224   199   225    859\n",
       "4           1     0     0     0      1\n",
       "All      2686  2733  2733  2734  10886"
      ]
     },
     "execution_count": 28,
     "metadata": {},
     "output_type": "execute_result"
    }
   ],
   "source": [
    "pd.crosstab(df['weather'], df['season'], margins = True)"
   ]
  },
  {
   "cell_type": "code",
   "execution_count": 29,
   "id": "5c13e8dd",
   "metadata": {},
   "outputs": [],
   "source": [
    "# A non parametric test with only one assumption - \n",
    "# The data in the cells should be frequencies, or counts rather than percentages or some other transformation of the data. \n",
    "\n",
    "#let significance level(α) = 5%(0.05)\n",
    "\n",
    "# Ho= Test statistic is close to zero. No association between the two variables.(Independent if we fail to reject Ho - Pval > α)\n",
    "# Ha= large positive or large negative test statistic.There is an association between the two variables.(Dependent if reject Ho)\n",
    "t_stat, p, dof, expected = stats.chi2_contingency(pd.crosstab(df['weather'], df['season']))"
   ]
  },
  {
   "cell_type": "code",
   "execution_count": 30,
   "id": "76e797ec",
   "metadata": {},
   "outputs": [
    {
     "data": {
      "text/plain": [
       "(1.5499250736864862e-07,\n",
       " 49.15865559689363,\n",
       " 9,\n",
       " array([[1.77454639e+03, 1.80559765e+03, 1.80559765e+03, 1.80625831e+03],\n",
       "        [6.99258130e+02, 7.11493845e+02, 7.11493845e+02, 7.11754180e+02],\n",
       "        [2.11948742e+02, 2.15657450e+02, 2.15657450e+02, 2.15736359e+02],\n",
       "        [2.46738931e-01, 2.51056403e-01, 2.51056403e-01, 2.51148264e-01]]))"
      ]
     },
     "execution_count": 30,
     "metadata": {},
     "output_type": "execute_result"
    }
   ],
   "source": [
    "p, t_stat, dof, expected"
   ]
  },
  {
   "cell_type": "code",
   "execution_count": 31,
   "id": "576811ea",
   "metadata": {},
   "outputs": [
    {
     "data": {
      "text/plain": [
       "1.5499250736864862e-07"
      ]
     },
     "execution_count": 31,
     "metadata": {},
     "output_type": "execute_result"
    }
   ],
   "source": [
    "# P <<<< α. Hence, we reject Ho, with a conclusion that there is an association or dependency between weather and season.\n",
    "p"
   ]
  },
  {
   "cell_type": "markdown",
   "id": "bbd5b8ea",
   "metadata": {},
   "source": [
    "### ANNOVA to check if No. of cycles rented is similar or different in different 1. weather 2. season"
   ]
  },
  {
   "cell_type": "code",
   "execution_count": 32,
   "id": "15daf6d6",
   "metadata": {},
   "outputs": [
    {
     "data": {
      "text/html": [
       "<div>\n",
       "<style scoped>\n",
       "    .dataframe tbody tr th:only-of-type {\n",
       "        vertical-align: middle;\n",
       "    }\n",
       "\n",
       "    .dataframe tbody tr th {\n",
       "        vertical-align: top;\n",
       "    }\n",
       "\n",
       "    .dataframe thead th {\n",
       "        text-align: right;\n",
       "    }\n",
       "</style>\n",
       "<table border=\"1\" class=\"dataframe\">\n",
       "  <thead>\n",
       "    <tr style=\"text-align: right;\">\n",
       "      <th></th>\n",
       "      <th>season</th>\n",
       "      <th>weather</th>\n",
       "      <th>count</th>\n",
       "    </tr>\n",
       "  </thead>\n",
       "  <tbody>\n",
       "    <tr>\n",
       "      <th>0</th>\n",
       "      <td>1</td>\n",
       "      <td>1</td>\n",
       "      <td>16</td>\n",
       "    </tr>\n",
       "    <tr>\n",
       "      <th>1</th>\n",
       "      <td>1</td>\n",
       "      <td>1</td>\n",
       "      <td>40</td>\n",
       "    </tr>\n",
       "    <tr>\n",
       "      <th>2</th>\n",
       "      <td>1</td>\n",
       "      <td>1</td>\n",
       "      <td>32</td>\n",
       "    </tr>\n",
       "    <tr>\n",
       "      <th>3</th>\n",
       "      <td>1</td>\n",
       "      <td>1</td>\n",
       "      <td>13</td>\n",
       "    </tr>\n",
       "    <tr>\n",
       "      <th>4</th>\n",
       "      <td>1</td>\n",
       "      <td>1</td>\n",
       "      <td>1</td>\n",
       "    </tr>\n",
       "    <tr>\n",
       "      <th>...</th>\n",
       "      <td>...</td>\n",
       "      <td>...</td>\n",
       "      <td>...</td>\n",
       "    </tr>\n",
       "    <tr>\n",
       "      <th>10881</th>\n",
       "      <td>4</td>\n",
       "      <td>1</td>\n",
       "      <td>336</td>\n",
       "    </tr>\n",
       "    <tr>\n",
       "      <th>10882</th>\n",
       "      <td>4</td>\n",
       "      <td>1</td>\n",
       "      <td>241</td>\n",
       "    </tr>\n",
       "    <tr>\n",
       "      <th>10883</th>\n",
       "      <td>4</td>\n",
       "      <td>1</td>\n",
       "      <td>168</td>\n",
       "    </tr>\n",
       "    <tr>\n",
       "      <th>10884</th>\n",
       "      <td>4</td>\n",
       "      <td>1</td>\n",
       "      <td>129</td>\n",
       "    </tr>\n",
       "    <tr>\n",
       "      <th>10885</th>\n",
       "      <td>4</td>\n",
       "      <td>1</td>\n",
       "      <td>88</td>\n",
       "    </tr>\n",
       "  </tbody>\n",
       "</table>\n",
       "<p>10886 rows × 3 columns</p>\n",
       "</div>"
      ],
      "text/plain": [
       "       season  weather  count\n",
       "0           1        1     16\n",
       "1           1        1     40\n",
       "2           1        1     32\n",
       "3           1        1     13\n",
       "4           1        1      1\n",
       "...       ...      ...    ...\n",
       "10881       4        1    336\n",
       "10882       4        1    241\n",
       "10883       4        1    168\n",
       "10884       4        1    129\n",
       "10885       4        1     88\n",
       "\n",
       "[10886 rows x 3 columns]"
      ]
     },
     "execution_count": 32,
     "metadata": {},
     "output_type": "execute_result"
    }
   ],
   "source": [
    "df[['season', 'weather', 'count']]"
   ]
  },
  {
   "cell_type": "code",
   "execution_count": 33,
   "id": "430868c2",
   "metadata": {},
   "outputs": [
    {
     "data": {
      "text/plain": [
       "season  weather\n",
       "1       1          1759\n",
       "        2           715\n",
       "        3           211\n",
       "        4             1\n",
       "2       1          1801\n",
       "        2           708\n",
       "        3           224\n",
       "3       1          1930\n",
       "        2           604\n",
       "        3           199\n",
       "4       1          1702\n",
       "        2           807\n",
       "        3           225\n",
       "Name: weather, dtype: int64"
      ]
     },
     "execution_count": 33,
     "metadata": {},
     "output_type": "execute_result"
    }
   ],
   "source": [
    "# We have to do a 2-way Anova as there are 4 different weather types for each season\n",
    "df.groupby('season')['weather'].value_counts()"
   ]
  },
  {
   "cell_type": "code",
   "execution_count": 34,
   "id": "4cecbba8",
   "metadata": {},
   "outputs": [],
   "source": [
    "# Ho = No. of cycles rented is similar in different Weather and season (No dependency)\n",
    "# Ha = No. of cycles rented is different in different Weather and season(dependency exists)\n",
    "\n",
    "#let significance level(α) = 5%(0.05)"
   ]
  },
  {
   "cell_type": "code",
   "execution_count": 35,
   "id": "3514c6e6",
   "metadata": {},
   "outputs": [],
   "source": [
    "ano = ols('count~season+weather', data = df).fit()"
   ]
  },
  {
   "cell_type": "code",
   "execution_count": 36,
   "id": "fbb137b3",
   "metadata": {},
   "outputs": [
    {
     "data": {
      "text/html": [
       "<div>\n",
       "<style scoped>\n",
       "    .dataframe tbody tr th:only-of-type {\n",
       "        vertical-align: middle;\n",
       "    }\n",
       "\n",
       "    .dataframe tbody tr th {\n",
       "        vertical-align: top;\n",
       "    }\n",
       "\n",
       "    .dataframe thead th {\n",
       "        text-align: right;\n",
       "    }\n",
       "</style>\n",
       "<table border=\"1\" class=\"dataframe\">\n",
       "  <thead>\n",
       "    <tr style=\"text-align: right;\">\n",
       "      <th></th>\n",
       "      <th>df</th>\n",
       "      <th>sum_sq</th>\n",
       "      <th>mean_sq</th>\n",
       "      <th>F</th>\n",
       "      <th>PR(&gt;F)</th>\n",
       "    </tr>\n",
       "  </thead>\n",
       "  <tbody>\n",
       "    <tr>\n",
       "      <th>season</th>\n",
       "      <td>1.0</td>\n",
       "      <td>9.540914e+06</td>\n",
       "      <td>9.540914e+06</td>\n",
       "      <td>303.976001</td>\n",
       "      <td>3.652156e-67</td>\n",
       "    </tr>\n",
       "    <tr>\n",
       "      <th>weather</th>\n",
       "      <td>1.0</td>\n",
       "      <td>6.046576e+06</td>\n",
       "      <td>6.046576e+06</td>\n",
       "      <td>192.645484</td>\n",
       "      <td>1.970772e-43</td>\n",
       "    </tr>\n",
       "    <tr>\n",
       "      <th>Residual</th>\n",
       "      <td>10883.0</td>\n",
       "      <td>3.415854e+08</td>\n",
       "      <td>3.138706e+04</td>\n",
       "      <td>NaN</td>\n",
       "      <td>NaN</td>\n",
       "    </tr>\n",
       "  </tbody>\n",
       "</table>\n",
       "</div>"
      ],
      "text/plain": [
       "               df        sum_sq       mean_sq           F        PR(>F)\n",
       "season        1.0  9.540914e+06  9.540914e+06  303.976001  3.652156e-67\n",
       "weather       1.0  6.046576e+06  6.046576e+06  192.645484  1.970772e-43\n",
       "Residual  10883.0  3.415854e+08  3.138706e+04         NaN           NaN"
      ]
     },
     "execution_count": 36,
     "metadata": {},
     "output_type": "execute_result"
    }
   ],
   "source": [
    "# From the p values for season and weather, we can say that pval <<<<<< 0.05. \n",
    "# Hence, there is dependency and No. of cycles rented is different in different Weather and season.\n",
    "sm.stats.anova_lm(ano, type = 2)"
   ]
  },
  {
   "cell_type": "markdown",
   "id": "f8cc5afc",
   "metadata": {},
   "source": [
    "### Bivariate analysis of dependent count vs independent temp, atemp, humidity and windspeed. "
   ]
  },
  {
   "cell_type": "code",
   "execution_count": 37,
   "id": "d458f1d5",
   "metadata": {},
   "outputs": [
    {
     "data": {
      "text/html": [
       "<div>\n",
       "<style scoped>\n",
       "    .dataframe tbody tr th:only-of-type {\n",
       "        vertical-align: middle;\n",
       "    }\n",
       "\n",
       "    .dataframe tbody tr th {\n",
       "        vertical-align: top;\n",
       "    }\n",
       "\n",
       "    .dataframe thead th {\n",
       "        text-align: right;\n",
       "    }\n",
       "</style>\n",
       "<table border=\"1\" class=\"dataframe\">\n",
       "  <thead>\n",
       "    <tr style=\"text-align: right;\">\n",
       "      <th></th>\n",
       "      <th>datetime</th>\n",
       "      <th>season</th>\n",
       "      <th>holiday</th>\n",
       "      <th>workingday</th>\n",
       "      <th>weather</th>\n",
       "      <th>temp</th>\n",
       "      <th>atemp</th>\n",
       "      <th>humidity</th>\n",
       "      <th>windspeed</th>\n",
       "      <th>casual</th>\n",
       "      <th>registered</th>\n",
       "      <th>count</th>\n",
       "    </tr>\n",
       "  </thead>\n",
       "  <tbody>\n",
       "    <tr>\n",
       "      <th>0</th>\n",
       "      <td>2011-01-01 00:00:00</td>\n",
       "      <td>1</td>\n",
       "      <td>0</td>\n",
       "      <td>0</td>\n",
       "      <td>1</td>\n",
       "      <td>9.84</td>\n",
       "      <td>14.395</td>\n",
       "      <td>81</td>\n",
       "      <td>0.0</td>\n",
       "      <td>3</td>\n",
       "      <td>13</td>\n",
       "      <td>16</td>\n",
       "    </tr>\n",
       "    <tr>\n",
       "      <th>1</th>\n",
       "      <td>2011-01-01 01:00:00</td>\n",
       "      <td>1</td>\n",
       "      <td>0</td>\n",
       "      <td>0</td>\n",
       "      <td>1</td>\n",
       "      <td>9.02</td>\n",
       "      <td>13.635</td>\n",
       "      <td>80</td>\n",
       "      <td>0.0</td>\n",
       "      <td>8</td>\n",
       "      <td>32</td>\n",
       "      <td>40</td>\n",
       "    </tr>\n",
       "    <tr>\n",
       "      <th>2</th>\n",
       "      <td>2011-01-01 02:00:00</td>\n",
       "      <td>1</td>\n",
       "      <td>0</td>\n",
       "      <td>0</td>\n",
       "      <td>1</td>\n",
       "      <td>9.02</td>\n",
       "      <td>13.635</td>\n",
       "      <td>80</td>\n",
       "      <td>0.0</td>\n",
       "      <td>5</td>\n",
       "      <td>27</td>\n",
       "      <td>32</td>\n",
       "    </tr>\n",
       "    <tr>\n",
       "      <th>3</th>\n",
       "      <td>2011-01-01 03:00:00</td>\n",
       "      <td>1</td>\n",
       "      <td>0</td>\n",
       "      <td>0</td>\n",
       "      <td>1</td>\n",
       "      <td>9.84</td>\n",
       "      <td>14.395</td>\n",
       "      <td>75</td>\n",
       "      <td>0.0</td>\n",
       "      <td>3</td>\n",
       "      <td>10</td>\n",
       "      <td>13</td>\n",
       "    </tr>\n",
       "    <tr>\n",
       "      <th>4</th>\n",
       "      <td>2011-01-01 04:00:00</td>\n",
       "      <td>1</td>\n",
       "      <td>0</td>\n",
       "      <td>0</td>\n",
       "      <td>1</td>\n",
       "      <td>9.84</td>\n",
       "      <td>14.395</td>\n",
       "      <td>75</td>\n",
       "      <td>0.0</td>\n",
       "      <td>0</td>\n",
       "      <td>1</td>\n",
       "      <td>1</td>\n",
       "    </tr>\n",
       "  </tbody>\n",
       "</table>\n",
       "</div>"
      ],
      "text/plain": [
       "             datetime  season  holiday  workingday  weather  temp   atemp  \\\n",
       "0 2011-01-01 00:00:00       1        0           0        1  9.84  14.395   \n",
       "1 2011-01-01 01:00:00       1        0           0        1  9.02  13.635   \n",
       "2 2011-01-01 02:00:00       1        0           0        1  9.02  13.635   \n",
       "3 2011-01-01 03:00:00       1        0           0        1  9.84  14.395   \n",
       "4 2011-01-01 04:00:00       1        0           0        1  9.84  14.395   \n",
       "\n",
       "   humidity  windspeed  casual  registered  count  \n",
       "0        81        0.0       3          13     16  \n",
       "1        80        0.0       8          32     40  \n",
       "2        80        0.0       5          27     32  \n",
       "3        75        0.0       3          10     13  \n",
       "4        75        0.0       0           1      1  "
      ]
     },
     "execution_count": 37,
     "metadata": {},
     "output_type": "execute_result"
    }
   ],
   "source": [
    "df.head()"
   ]
  },
  {
   "cell_type": "code",
   "execution_count": 38,
   "id": "a65ee76d",
   "metadata": {},
   "outputs": [],
   "source": [
    "df['temp'] = pd.cut(df['temp'], bins = np.arange(0, 44, 2))\n",
    "df['atemp'] = pd.cut(df['atemp'], bins = np.arange(0, 48, 2))\n",
    "df['humidity'] = pd.cut(df['humidity'], bins = np.arange(0, 110, 10))\n",
    "df['windspeed'] = pd.cut(df['windspeed'], bins = np.arange(0, 55, 5))"
   ]
  },
  {
   "cell_type": "code",
   "execution_count": 39,
   "id": "6a7df39f",
   "metadata": {},
   "outputs": [
    {
     "data": {
      "text/plain": [
       "Index(['datetime', 'season', 'holiday', 'workingday', 'weather', 'temp',\n",
       "       'atemp', 'humidity', 'windspeed', 'casual', 'registered', 'count'],\n",
       "      dtype='object')"
      ]
     },
     "execution_count": 39,
     "metadata": {},
     "output_type": "execute_result"
    }
   ],
   "source": [
    "df.columns"
   ]
  },
  {
   "cell_type": "code",
   "execution_count": 40,
   "id": "a0458b13",
   "metadata": {},
   "outputs": [
    {
     "name": "stdout",
     "output_type": "stream",
     "text": [
      "\u001b[1mtemp vs count\u001b[0m\n"
     ]
    },
    {
     "data": {
      "image/png": "[encoded data removed]",
      "text/plain": [
       "<Figure size 432x288 with 1 Axes>"
      ]
     },
     "metadata": {
      "needs_background": "light"
     },
     "output_type": "display_data"
    },
    {
     "name": "stdout",
     "output_type": "stream",
     "text": [
      "\u001b[1matemp vs count\u001b[0m\n"
     ]
    },
    {
     "data": {
      "image/png": "[encoded data removed]",
      "text/plain": [
       "<Figure size 432x288 with 1 Axes>"
      ]
     },
     "metadata": {
      "needs_background": "light"
     },
     "output_type": "display_data"
    },
    {
     "name": "stdout",
     "output_type": "stream",
     "text": [
      "\u001b[1mhumidity vs count\u001b[0m\n"
     ]
    },
    {
     "data": {
      "image/png": "[encoded data removed]",
      "text/plain": [
       "<Figure size 432x288 with 1 Axes>"
      ]
     },
     "metadata": {
      "needs_background": "light"
     },
     "output_type": "display_data"
    },
    {
     "name": "stdout",
     "output_type": "stream",
     "text": [
      "\u001b[1mwindspeed vs count\u001b[0m\n"
     ]
    },
    {
     "data": {
      "image/png": "[encoded data removed]",
      "text/plain": [
       "<Figure size 432x288 with 1 Axes>"
      ]
     },
     "metadata": {
      "needs_background": "light"
     },
     "output_type": "display_data"
    }
   ],
   "source": [
    "for i in df.columns[5:9]:\n",
    "    print(f'\\033[1m{i} vs count\\033[0m')\n",
    "    df.groupby(i)['count'].sum().plot(kind = 'bar')\n",
    "    plt.xticks(rotation=90)\n",
    "    plt.show()"
   ]
  },
  {
   "cell_type": "code",
   "execution_count": null,
   "id": "44dfa932",
   "metadata": {},
   "outputs": [],
   "source": []
  }
 ],
 "metadata": {
  "kernelspec": {
   "display_name": "Python 3 (ipykernel)",
   "language": "python",
   "name": "python3"
  },
  "language_info": {
   "codemirror_mode": {
    "name": "ipython",
    "version": 3
   },
   "file_extension": ".py",
   "mimetype": "text/x-python",
   "name": "python",
   "nbconvert_exporter": "python",
   "pygments_lexer": "ipython3",
   "version": "3.10.0"
  }
 },
 "nbformat": 4,
 "nbformat_minor": 5
}
